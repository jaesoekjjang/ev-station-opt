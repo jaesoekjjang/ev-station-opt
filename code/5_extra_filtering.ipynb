{
 "cells": [
  {
   "cell_type": "code",
   "execution_count": 5,
   "metadata": {},
   "outputs": [],
   "source": [
    "from haversine import haversine\n",
    "import pandas as pd\n",
    "import os"
   ]
  },
  {
   "cell_type": "code",
   "execution_count": null,
   "metadata": {},
   "outputs": [],
   "source": [
    "DF1_FILENAME = '6.Candidate groups.csv'\n",
    "DF1_FILEPATH = os.path.join(os.path.dirname(os.getcwd()),'data','dataset',DF1_FILENAME)\n",
    "\n",
    "df = pd.read_csv(DF1_FILEPATH, index_col=0)"
   ]
  },
  {
   "cell_type": "code",
   "execution_count": 4,
   "metadata": {},
   "outputs": [
    {
     "data": {
      "text/plain": [
       "10603.855192138562"
      ]
     },
     "execution_count": 4,
     "metadata": {},
     "output_type": "execute_result"
    }
   ],
   "source": [
    "# 위경도 입력\n",
    "Seoul = (37.541, 126.986)  # Latitude, Longitude\n",
    "Toronto = (43.65, -79.38)\n",
    "\n",
    "# 거리 계산\n",
    "haversine(Seoul, Toronto, unit = 'km')"
   ]
  },
  {
   "cell_type": "code",
   "execution_count": null,
   "metadata": {},
   "outputs": [],
   "source": [
    "distance_compare_list = []\n",
    "\n",
    "## for문으로 비교\n",
    "for i in range(df.shape[0]):\n",
    "    hbl = (df[\"hb_lat\"][i], df[\"hb_lng\"][i])\n",
    "    hcl = (df2[\"hc_lat\"][i], df2[\"hc_lng\"][i])\n",
    "    result = haversine(hbl, hcl, unit='m')\n",
    "    distance_compare_list.append(result)\n",
    "\n",
    "## 출력\n",
    "print(distance_compare_list)"
   ]
  }
 ],
 "metadata": {
  "kernelspec": {
   "display_name": "Python 3.8.13 ('Bigcontest')",
   "language": "python",
   "name": "python3"
  },
  "language_info": {
   "codemirror_mode": {
    "name": "ipython",
    "version": 3
   },
   "file_extension": ".py",
   "mimetype": "text/x-python",
   "name": "python",
   "nbconvert_exporter": "python",
   "pygments_lexer": "ipython3",
   "version": "3.8.13"
  },
  "orig_nbformat": 4,
  "vscode": {
   "interpreter": {
    "hash": "e4326523e32548b3cceb6a0ebcd4019a3487f7711dd0de884d379a476b3adf00"
   }
  }
 },
 "nbformat": 4,
 "nbformat_minor": 2
}
